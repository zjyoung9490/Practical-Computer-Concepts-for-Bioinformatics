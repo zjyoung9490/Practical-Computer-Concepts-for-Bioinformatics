{
 "cells": [
  {
   "cell_type": "code",
   "execution_count": 2,
   "metadata": {},
   "outputs": [
    {
     "name": "stdout",
     "output_type": "stream",
     "text": [
      "47.12385\n"
     ]
    }
   ],
   "source": [
    "# 1. Write a program that computes the circumference of a circle with a radius of 7.5 and prints out the result. \n",
    "# The circumference is 2 * pi * radius. You can use the value of 3.14159 for pi.\n",
    "\n",
    "pi = 3.14159\n",
    "radius = 7.5\n",
    "circumference = 2*pi*radius\n",
    "\n",
    "print(circumference)"
   ]
  },
  {
   "cell_type": "code",
   "execution_count": 3,
   "metadata": {},
   "outputs": [
    {
     "name": "stdout",
     "output_type": "stream",
     "text": [
      "16\n",
      "9\n",
      "144\n"
     ]
    }
   ],
   "source": [
    "# 2. Write a program that multiplies two hard-coded numbers, then prints the individual numbers out and prints their product out, all on separate lines. \n",
    "# You can choose the two numbers that are multiplied together.\n",
    "\n",
    "a = 16\n",
    "b = 9\n",
    "\n",
    "print(a)\n",
    "print(b)\n",
    "print(a*b)"
   ]
  },
  {
   "cell_type": "code",
   "execution_count": 29,
   "metadata": {},
   "outputs": [
    {
     "name": "stdout",
     "output_type": "stream",
     "text": [
      "10 x 7 = 70\n"
     ]
    }
   ],
   "source": [
    "# 3. Make a copy of #2 but modify it to print output exactly like this, rather than just the numbers on separate lines:\n",
    "# 10 x 7 = 70\n",
    "# Do this using the string.format() function discussed in the lecture.\n",
    "\n",
    "a = 10\n",
    "b = 7\n",
    "\n",
    "print(\"{0} x {1} = \".format(a, b) + str(a*b))"
   ]
  },
  {
   "cell_type": "code",
   "execution_count": 8,
   "metadata": {},
   "outputs": [
    {
     "name": "stdout",
     "output_type": "stream",
     "text": [
      "The length of your sequence is: 28\n",
      "The first codon is: ATG\n"
     ]
    }
   ],
   "source": [
    "# 4. Start a script with the following line:\n",
    "# dna = 'ATGGAACCAACGTCAGTGACTTCGTCAG'\n",
    "# Then write a program to generate the following output:\n",
    "# The length of your sequence is: 28\n",
    "# The first codon is: ATG\n",
    "# You should not print these values (hard-coded) directly. \n",
    "# Instead, they should be calculated based on the sequence stored within the dna variable. \n",
    "# (That is, if you change the sequence in dna the program should still work accordingly.)\n",
    "\n",
    "dna = 'ATGGAACCAACGTCAGTGACTTCGTCAG'\n",
    "\n",
    "print('The length of your sequence is:', len(dna))\n",
    "print('The first codon is:', dna[0:3])"
   ]
  },
  {
   "cell_type": "code",
   "execution_count": 20,
   "metadata": {},
   "outputs": [
    {
     "name": "stdout",
     "output_type": "stream",
     "text": [
      "There are 2 instances of the motif AA\n"
     ]
    }
   ],
   "source": [
    "# 5. Starting with the same dna variable assignment above, write another script to perform calculations whose output would be:\n",
    "# There are 2 instances of the motif 'AA'\n",
    "# You should be able to change the motif and it automatically count how many times it is found in your sequence.\n",
    "\n",
    "dna = 'ATGGAACCAACGTCAGTGACTTCGTCAG'\n",
    "motif = 'AA'\n",
    "\n",
    "print(\"There are\", dna.count(motif), \"instances of the motif\", motif)"
   ]
  }
 ],
 "metadata": {
  "kernelspec": {
   "display_name": "Python 3",
   "language": "python",
   "name": "python3"
  },
  "language_info": {
   "codemirror_mode": {
    "name": "ipython",
    "version": 3
   },
   "file_extension": ".py",
   "mimetype": "text/x-python",
   "name": "python",
   "nbconvert_exporter": "python",
   "pygments_lexer": "ipython3",
   "version": "3.7.3"
  }
 },
 "nbformat": 4,
 "nbformat_minor": 2
}
