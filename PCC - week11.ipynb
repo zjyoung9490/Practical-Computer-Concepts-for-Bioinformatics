{
 "cells": [
  {
   "cell_type": "code",
   "execution_count": null,
   "metadata": {},
   "outputs": [],
   "source": [
    "amino_acids = {}\n",
    "\n",
    "for line in open('ecoli'):\n",
    "    line = line.rstrip()\n",
    "    if not line.startswith('>'):\n",
    "        for i in line:\n",
    "            amino_acids[i] = amino_acids.get(i, 0)+1\n",
    "    \n",
    "print(amino_acids)"
   ]
  },
  {
   "cell_type": "code",
   "execution_count": null,
   "metadata": {},
   "outputs": [],
   "source": [
    "amino_acids = {}\n",
    "\n",
    "for line in open('ecoli'):\n",
    "    line = line.rstrip()\n",
    "    if not line.startswith('>'):\n",
    "        for i in line:\n",
    "            amino_acids[i] = amino_acids.get(i, 0)+1\n",
    "        \n",
    "for j in sorted(amino_acids, key=amino_acids.get, reverse=True)[:5]:\n",
    "    print(j+\":\", amino_acids[j], (amino_acids[j]/sum(amino_acids.values()))*100)"
   ]
  }
 ],
 "metadata": {
  "kernelspec": {
   "display_name": "Python 3",
   "language": "python",
   "name": "python3"
  },
  "language_info": {
   "codemirror_mode": {
    "name": "ipython",
    "version": 3
   },
   "file_extension": ".py",
   "mimetype": "text/x-python",
   "name": "python",
   "nbconvert_exporter": "python",
   "pygments_lexer": "ipython3",
   "version": "3.7.3"
  }
 },
 "nbformat": 4,
 "nbformat_minor": 2
}
