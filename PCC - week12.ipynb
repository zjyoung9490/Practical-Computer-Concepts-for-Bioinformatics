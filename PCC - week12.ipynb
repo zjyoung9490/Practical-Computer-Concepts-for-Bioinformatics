{
 "cells": [
  {
   "cell_type": "code",
   "execution_count": 7,
   "metadata": {},
   "outputs": [],
   "source": [
    "import re\n",
    "\n",
    "class Motifs:\n",
    "    def __init__(self, seq=None, walker_a_motif=None, walker_b_motif=None):\n",
    "        self.seq = seq\n",
    "        self.walker_a_motif = walker_a_motif\n",
    "        self.walker_b_motif = walker_b_motif\n",
    "\n",
    "# The walker a motif in proteins is associated with phosphate binding. \n",
    "# The motif has the pattern G-x(4)-GK-[TS], where G, K, T and S denote glycine, lysine, threonine and serine residues respectively, and x denotes any amino acid. \n",
    "# It is present in many ATP or GTP utilizing proteins; it is the β phosphate of the nucleotide that is bound. \n",
    "\n",
    "    def find_walker_a(self, file):\n",
    "        line = line.rstrip()\n",
    "        \n",
    "        for line in open(file):\n",
    "            if line.startswith(\">\"):\n",
    "                print(\"Protein information:\\n\", line)\n",
    "                \n",
    "            else:\n",
    "                m = re.search('[G]\\D{4}[G][K][TS]', line)\n",
    "                if m:\n",
    "                    print(\"Walker A motif found!\")\n",
    "                else:\n",
    "                    print(\"No motif found :(\")\n",
    "                    \n",
    "# Walker B motif is a motif in most P-loop proteins situated well downstream of the A-motif. \n",
    "# The consensus sequence of this motif was reported to be [RK]-x(3)-G-x(3)-LhhhD, where R, K, G, L and D denote arginine, lysine, glycine, leucine and aspartic acid residues respectively, \n",
    "# x represents any of the 20 standard amino acids and h denotes a hydrophobic amino acid.\n",
    "\n",
    "    def find_walker_b(self, file):\n",
    "        line = line.rstrip()\n",
    "        \n",
    "        for line in open(file):\n",
    "            if line.startswith(\">\"):\n",
    "                print(\"Protein information:\\n\", line)\n",
    "                \n",
    "            else:\n",
    "                m = re.search('[RK]\\D{3}[G]\\D{3}[L]\\D{3}[D]', line)\n",
    "                if m:\n",
    "                    print(\"Walker B motif found!\")\n",
    "                else:\n",
    "                    print(\"No motif found :(\")   "
   ]
  },
  {
   "cell_type": "code",
   "execution_count": 3,
   "metadata": {},
   "outputs": [
    {
     "name": "stdout",
     "output_type": "stream",
     "text": [
      "Walker A motif found!\n"
     ]
    }
   ],
   "source": [
    "import re\n",
    "\n",
    "line = 'GHDJSKEIDKCGXXDSGKTVFCFFVDESASSDF'\n",
    "\n",
    "def walker_a(line):\n",
    "    m = re.search('[G]\\D{4}[G][K][TS]', line)\n",
    "    if m:\n",
    "        print(\"Walker A motif found!\")\n",
    "    else:\n",
    "        print(\"No motif found :(\")\n",
    "        \n",
    "walker_a(line)"
   ]
  },
  {
   "cell_type": "code",
   "execution_count": 6,
   "metadata": {},
   "outputs": [
    {
     "name": "stdout",
     "output_type": "stream",
     "text": [
      "No motif found :(\n"
     ]
    }
   ],
   "source": [
    "line = 'GHDJSKEIDKCGXDSGKTVFCFFVDESASSDF'\n",
    "\n",
    "walker_a(line)"
   ]
  },
  {
   "cell_type": "code",
   "execution_count": 9,
   "metadata": {},
   "outputs": [
    {
     "name": "stdout",
     "output_type": "stream",
     "text": [
      "No motif found :(\n"
     ]
    }
   ],
   "source": [
    "# hemoglobin subunit beta [Homo sapiens]\n",
    "line = 'MVHLTPEEKSAVTALWGKVNVDEVGGEALGRLLVVYPWTQRFFESFGDLSTPDAVMGNPKVKAHGKKVLGAFSDGLAHLDNLKGTFATLSELHCDKLHVDPENFRLLGNVLVCVLAHHFGKEFTPPVQAAYQKVVAGVANALAHKYH'\n",
    "\n",
    "walker_a(line)"
   ]
  },
  {
   "cell_type": "code",
   "execution_count": 12,
   "metadata": {},
   "outputs": [
    {
     "name": "stdout",
     "output_type": "stream",
     "text": [
      "Walker A motif found!\n"
     ]
    }
   ],
   "source": [
    "# ATP-binding cassette sub-family E member 1 [Homo sapiens]\n",
    "line = 'MADKLTRIAIVNHDKCKPKKCRQECKKSCPVVRMGKLCIEVTPQSKIAWISETLCIGCGICIKKCPFGALSIVNLPSNLEKETTHRYCANAFKLHRLPIPRPGEVLGLVGTNGIGKSTALKILAGKQKPNLGKYDDPPDWQEILTYFRGSELQNYFTKILEDDLKAIIKPQYVDQIPKAAKGTVGSILDRKDETKTQAIVCQQLDLTHLKERNVEDLSGGELQRFACAVVCIQKADIFMFDEPSSYLDVKQRLKAAITIRSLINPDRYIIVVEHDLSVLDYLSDFICCLYGVPSAYGVVTMPFSVREGINIFLDGYVPTENLRFRDASLVFKVAETANEEEVKKMCMYKYPGMKKKMGEFELAIVAGEFTDSEIMVMLGENGTGKTTFIRMLAGRLKPDEGGEVPVLNVSYKPQKISPKSTGSVRQLLHEKIRDAYTHPQFVTDVMKPLQIENIIDQEVQTLSGGELQRVALALCLGKPADVYLIDEPSAYLDSEQRLMAARVVKRFILHAKKTAFVVEHDFIMATYLADRVIVFDGVPSKNTVANSPQTLLAGMNKFLSQLEITFRRDPNNYRPRINKLNSIKDVEQKKSGNYFFLDD'\n",
    "\n",
    "walker_a(line)"
   ]
  }
 ],
 "metadata": {
  "kernelspec": {
   "display_name": "Python 3",
   "language": "python",
   "name": "python3"
  },
  "language_info": {
   "codemirror_mode": {
    "name": "ipython",
    "version": 3
   },
   "file_extension": ".py",
   "mimetype": "text/x-python",
   "name": "python",
   "nbconvert_exporter": "python",
   "pygments_lexer": "ipython3",
   "version": "3.7.3"
  }
 },
 "nbformat": 4,
 "nbformat_minor": 2
}
