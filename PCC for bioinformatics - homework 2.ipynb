{
 "cells": [
  {
   "cell_type": "code",
   "execution_count": 1,
   "metadata": {},
   "outputs": [
    {
     "name": "stdout",
     "output_type": "stream",
     "text": [
      "1\n",
      "2\n",
      "3\n",
      "4\n",
      "5\n",
      "6\n",
      "7\n",
      "8\n",
      "9\n",
      "10\n",
      "11\n",
      "12\n",
      "13\n",
      "14\n",
      "15\n",
      "16\n",
      "17\n",
      "18\n",
      "19\n",
      "20\n",
      "21\n",
      "22\n",
      "23\n",
      "24\n",
      "25\n",
      "26\n",
      "27\n",
      "28\n",
      "29\n",
      "30\n",
      "31\n",
      "32\n",
      "33\n",
      "34\n",
      "35\n",
      "36\n",
      "37\n",
      "38\n",
      "39\n",
      "40\n",
      "41\n",
      "42\n",
      "43\n",
      "44\n",
      "45\n",
      "46\n",
      "47\n",
      "48\n",
      "49\n",
      "50\n",
      "51\n",
      "52\n",
      "53\n",
      "54\n",
      "55\n",
      "56\n",
      "57\n",
      "58\n",
      "59\n",
      "60\n",
      "61\n",
      "62\n",
      "63\n",
      "64\n",
      "65\n",
      "66\n",
      "67\n",
      "68\n",
      "69\n",
      "70\n",
      "71\n",
      "72\n",
      "73\n",
      "74\n",
      "75\n",
      "76\n",
      "77\n",
      "78\n",
      "79\n",
      "80\n",
      "81\n",
      "82\n",
      "83\n",
      "84\n",
      "85\n",
      "86\n",
      "87\n",
      "88\n",
      "89\n",
      "90\n",
      "91\n",
      "92\n",
      "93\n",
      "94\n",
      "95\n",
      "96\n",
      "97\n",
      "98\n",
      "99\n"
     ]
    }
   ],
   "source": [
    "# 1. Write a program that prints all the numbers from 1 to 100, inclusive, each on its own line. (Your program\n",
    "# should have much fewer than 100 lines of code!) \n",
    "\n",
    "for number in range(1, 101):\n",
    "    print(number)"
   ]
  },
  {
   "cell_type": "code",
   "execution_count": 44,
   "metadata": {},
   "outputs": [
    {
     "name": "stdout",
     "output_type": "stream",
     "text": [
      "6.0\n",
      "16.0\n",
      "8.0\n",
      "24.0\n",
      "4.0\n",
      "9.6\n"
     ]
    }
   ],
   "source": [
    "# 2. Start a script with the following line:\n",
    "# counts = '8,3,6,2,12,5'\n",
    "# Transform this comma-separated string into a list using the split() function. The program should take each\n",
    "# element of that list in turn and divide it into 48 (i.e. 48/element) and print the result of the division, like this:\n",
    "# 48 / 8 = 6.0\n",
    "\n",
    "counts = '8, 3, 6, 2, 12, 5'\n",
    "elements = counts.split(\",\")\n",
    "\n",
    "for element in elements:\n",
    "    print(48/int(element))"
   ]
  },
  {
   "cell_type": "code",
   "execution_count": 45,
   "metadata": {},
   "outputs": [],
   "source": [
    "# 3. Write a function called start_codon which accepts a DNA sequence as its argument and returns the first\n",
    "# codon as a string. Assume the sequence is in frame.\n",
    "\n",
    "def start_codon(dna_seq):\n",
    "    return dna_seq[0:3]"
   ]
  },
  {
   "cell_type": "code",
   "execution_count": 48,
   "metadata": {},
   "outputs": [
    {
     "data": {
      "text/plain": [
       "'ATA'"
      ]
     },
     "execution_count": 48,
     "metadata": {},
     "output_type": "execute_result"
    }
   ],
   "source": [
    "dna_seq = 'ATGCGCTAACT'\n",
    "\n",
    "start_codon('ATACTTG')"
   ]
  },
  {
   "cell_type": "code",
   "execution_count": null,
   "metadata": {},
   "outputs": [],
   "source": [
    "# 4. In my home area you'll find the following file '/home/jorvis1/e_coli_k12_dh10b.faa', which is in FASTA\n",
    "# format. Write a script to count the number of sequence entries within this file and report the count like:\n",
    "# There were 4126 sequences within the file.\n",
    "\n",
    "sequence_lines = 0\n",
    "\n",
    "for line in open('/home/jorvis1/e_coli_k12_dh10b.faa'):\n",
    "    if line.startswith(“>”):\n",
    "        sequence_lines += 1\n",
    "\n",
    "print(\"There were {0} sequences within the file\".format(sequence_lines))"
   ]
  },
  {
   "cell_type": "code",
   "execution_count": null,
   "metadata": {},
   "outputs": [],
   "source": [
    "# 5. Make a copy of your solution from #4 and instead write a function called fasta_sequence_count which does\n",
    "# this functionality. It should accept a file name as an argument and return the number of sequence entries found\n",
    "# within it.\n",
    "\n",
    "def fasta_sequence_count(file):\n",
    "    sequence_count = 0\n",
    "    for line in open(file):\n",
    "        if line.startswith(“>”):\n",
    "        sequence_count += 1\n",
    "        \n",
    "        print(\"There were {0} sequences within the file\".format(sequence_count))"
   ]
  }
 ],
 "metadata": {
  "kernelspec": {
   "display_name": "Python 3",
   "language": "python",
   "name": "python3"
  },
  "language_info": {
   "codemirror_mode": {
    "name": "ipython",
    "version": 3
   },
   "file_extension": ".py",
   "mimetype": "text/x-python",
   "name": "python",
   "nbconvert_exporter": "python",
   "pygments_lexer": "ipython3",
   "version": "3.7.3"
  }
 },
 "nbformat": 4,
 "nbformat_minor": 2
}
